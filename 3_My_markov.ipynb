{
 "cells": [
  {
   "cell_type": "markdown",
   "id": "dfc072b4",
   "metadata": {},
   "source": [
    "# Markov-Ketten\n",
    "\n"
   ]
  },
  {
   "cell_type": "markdown",
   "id": "0ebf0fc7-c122-40cc-a57c-7c53cbf85c01",
   "metadata": {},
   "source": [
    "look at https://github.com/jsvine/markovify\n",
    "Die Parameter zur Kontrolle des Ergebnisses sind dort gut beschrieben:\n",
    "- state_size\n",
    "- tries\n",
    "- max_overlap_ratio\n",
    "- max_overlap_total"
   ]
  },
  {
   "cell_type": "code",
   "execution_count": null,
   "id": "42ad0955-4fca-4a30-83a7-9ed8a9739894",
   "metadata": {},
   "outputs": [],
   "source": [
    "#!pip install markovify"
   ]
  },
  {
   "cell_type": "code",
   "execution_count": 9,
   "id": "eb235ec1-ce2f-4736-afb3-90691321e700",
   "metadata": {},
   "outputs": [
    {
     "name": "stdout",
     "output_type": "stream",
     "text": [
      "This by way of response to the requirements of capitalism, which wants a man to be a component of a new ice age.\n",
      "\n",
      "In short, the nation is the very mystery of all poetry.\n",
      "\n",
      "How do you get out of the impasse while continuing to presup- pose it.\n",
      "\n",
      "Archaeology discovers it everywhere, often lost in oblivion, at the horizon of the world, using very diverse procedures of variation.\n",
      "\n",
      "The whole question is thus whether or not it used violence..\n",
      "\n",
      "Of course, becomings-woman and -child remain just as important, yet the reign of birds seems to have a much greater power of deterritorialization permeating nature, animals, the elements, and deserts as much as human beings.\n",
      "\n",
      "This time the signifier assumes a new figure: it is no longer to adapt, even under violence, but to localize: Where is your place?\n",
      "\n",
      "D 279 becoming-animal of the human being encoun- ters the animal.\n",
      "\n",
      "Something animalistic in him had begun to run off in all directions.\n",
      "\n",
      "Sonorous or vocal components are very important: a wall of sound, or at least a possible one, even when the American sets off in pursuit of its principle.\n",
      "\n"
     ]
    }
   ],
   "source": [
    "import markovify\n",
    "\n",
    "with open(\"data/MillePlateaux.txt\") as f:\n",
    "    text = f.read()\n",
    "    \n",
    "text_model = markovify.Text(text, state_size=3)\n",
    "\n",
    "for i in range(10):\n",
    "    print(text_model.make_sentence(max_overlap_ratio=0.7, tries=100), end='\\n\\n')\n"
   ]
  },
  {
   "cell_type": "code",
   "execution_count": 10,
   "id": "badf3b5e-a2c5-4357-a5c1-677d7f0e7e60",
   "metadata": {},
   "outputs": [
    {
     "name": "stdout",
     "output_type": "stream",
     "text": [
      "\u001b[91m\u001b[1mSome long sentences:\u001b[0m\n",
      "Im Hinblick auf das Eingangszitat von Burroughs stellt sich unter anderem die Frage, ob die Zukunft insgesamt vorhersagbarer wird, je mehr technische Apparate und Maschinen wären nur dazu da, uns ein einfacheres Leben zu gewährleisten.\n",
      "\n",
      "Im Hinblick auf das Eingangszitat von Burroughs stellt sich unter anderem die Frage, ob die Zukunft insgesamt vorhersagbarer wird, je mehr technische Apparate und Maschinen wären nur dazu da, uns ein einfacheres Leben zu gewährleisten.\n",
      "\n",
      "Was wir aber eigentlich anstreben, ist nicht nur die ganze Selbstbezüglichkeit des Unterfangens, sondern auch die Wirklichkeit unser Vorstellungsvermögen.\n",
      "\n",
      "None\n",
      "\n",
      "Im Hinblick auf das Eingangszitat von Burroughs stellt sich unter anderem die Frage, ob die Zukunft insgesamt vorhersagbarer wird, je mehr technische Apparate und Maschinen wären nur dazu da, uns ein einfacheres Leben zu gewährleisten.\n",
      "\n",
      "Um aber – im Sinne Pichts – die eigene Geschichte zu beherrschen und nicht nur die Verhinderung von Schäden und Katastrophen, sondern die positive Verfügungsgewalt über die Zukunft wird damit kaum gelingen.\n",
      "\n",
      "Da Technik gleichzeitig alle Bereiche des Lebens durchdringt und nicht nur über das allgemeine Geschehen, sondern auch die besondere Rolle der Sprache.\n",
      "\n",
      "\u001b[91m\u001b[1mSome short sentences:\u001b[0m\n",
      "Heute kennen viele weder das Gefühl der Sicherheit, die solches Können vermittelt.\n",
      "\n",
      "Eines der größten Missverständnisse im Bezug auf die Steigerung der gesellschaftlichen Produktivkräfte eine unglaubliche Erfolgsgeschichte.\n",
      "\n",
      "Technik ist als ganzheitliches zentrales Vermögen des Menschen und einen enormen Zuwachs an Verantwortung.\n",
      "\n"
     ]
    }
   ],
   "source": [
    "# Methoden: \n",
    "#    markovify.Text\n",
    "#    make_sentence(tries=10)\n",
    "#    make_short_sentence(280, tries=100) /make a short sentence not longer then 280 characters\n",
    "\n",
    "# The default rule is to suppress any generated sentences that exactly overlaps the original text \n",
    "# by 15 words or 70% of the sentence's word count.\n",
    "# With max_overlap_ratio, max_overlap_total you can overwrite the standard values.\n",
    "\n",
    "\n",
    "class bold_color:\n",
    "   PURPLE = '\\033[95m'\n",
    "   CYAN = '\\033[96m'\n",
    "   DARKCYAN = '\\033[36m'\n",
    "   BLUE = '\\033[94m'\n",
    "   GREEN = '\\033[92m'\n",
    "   YELLOW = '\\033[93m'\n",
    "   RED = '\\033[91m'\n",
    "   BOLD = '\\033[1m'\n",
    "   UNDERLINE = '\\033[4m'\n",
    "   END = '\\033[0m'\n",
    "color = bold_color()\n",
    "\n",
    "\n",
    "# Get raw text as string.\n",
    "with open(\"data/Reenacting_Poiesis.txt\") as f:\n",
    "    text = f.read()\n",
    "\n",
    "# Build the model.\n",
    "text_model = markovify.Text(text, state_size=3)\n",
    "#text_model = markovify.Text(text)\n",
    "\n",
    "# Print five randomly-generated sentences\n",
    "print(color.RED + color.BOLD + 'Some long sentences:' + color.END)\n",
    "for i in range(7):\n",
    "    print(text_model.make_sentence(max_overlap_ratio=0.5, tries=1000), end='\\n\\n')\n",
    "\n",
    "# Print three randomly-generated sentences of no more than 280 characters\n",
    "print(color.RED + color.BOLD + 'Some short sentences:' + color.END)\n",
    "for i in range(3):\n",
    "    print(text_model.make_short_sentence(280, max_overlap_total=10, tries=100), end='\\n\\n')\n"
   ]
  },
  {
   "cell_type": "code",
   "execution_count": null,
   "id": "49daf4aa",
   "metadata": {},
   "outputs": [],
   "source": []
  },
  {
   "cell_type": "code",
   "execution_count": null,
   "id": "67352ad2-3be2-422c-823b-65e9818a7d72",
   "metadata": {},
   "outputs": [],
   "source": []
  }
 ],
 "metadata": {
  "kernelspec": {
   "display_name": "Python 3 (ipykernel)",
   "language": "python",
   "name": "python3"
  },
  "language_info": {
   "codemirror_mode": {
    "name": "ipython",
    "version": 3
   },
   "file_extension": ".py",
   "mimetype": "text/x-python",
   "name": "python",
   "nbconvert_exporter": "python",
   "pygments_lexer": "ipython3",
   "version": "3.9.7"
  }
 },
 "nbformat": 4,
 "nbformat_minor": 5
}
