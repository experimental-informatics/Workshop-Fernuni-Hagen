{
 "cells": [
  {
   "cell_type": "markdown",
   "id": "642bbb9b-c7b4-4973-b7e5-021e138f772d",
   "metadata": {},
   "source": [
    "# Verstehen & Algorithmus\n",
    "\n",
    "\n",
    "#### Übersicht\n",
    "\n",
    "1. [x] Die Bibliothek von Babel\n",
    "2. [x] Brion Gysin - Permutationen   \n",
    "3. [x] Markov-Ketten\n",
    "4. [x] Transformer-Netze\n",
    "5. [x] OpenAI Codex\n",
    "6. [x] Die Codierung von Bedeutung - WordVecs und Positional Endcoder\n",
    "7. [ ] Verstehen & Algorithmus\n",
    "8. [ ] Bias\n"
   ]
  },
  {
   "cell_type": "markdown",
   "id": "2a665155-a89e-4fc2-8f18-ce37af6a55a1",
   "metadata": {},
   "source": [
    "# \"Verstehende\" Algorithmen\n",
    "\n",
    "**Verstehen, Interpretieren und Handeln.**\n",
    "\n",
    "Probleme:\n",
    "- Humor, Ironie, Sarkasmus\n",
    "- Poesie\n",
    "\n",
    "Theresa Mays Speech at the Conservative Party conference in Manchester in Oct 2017:\n",
    "\n",
    "<img src=\"data/TheresaMay_falling_f.jpg\">\n",
    "<br>\n",
    "<img src=\"data/Building_a_country_that_works_for_everyone.jpg\">\n",
    "\n"
   ]
  },
  {
   "cell_type": "markdown",
   "id": "194e978c-3786-443d-ba5a-cce5fd82e509",
   "metadata": {},
   "source": [
    "# Algorithmen verstehen\n",
    "\n",
    "Unterschied zwischen \"können\" und \"verstehen\".\n",
    "**Etwas machen können, bedeutet nicht, dass man es auch versteht.**\n",
    "\n",
    "<img src=\"data/BlackBox_WhiteBox.png\" width=500>\n",
    "\n",
    "<br>\n"
   ]
  },
  {
   "cell_type": "markdown",
   "id": "8d4a7f48-f81e-4cbd-aa69-8807e4d28b4e",
   "metadata": {},
   "source": [
    "<br>\n",
    "<br>\n",
    "\n",
    "**Beispiel: Goldbachsche Vermutung (1742, unbewiesen)**\n",
    "\n",
    "\n",
    "<img src=\"data/GoldbachscheVermutung_Beispiele.png\" width = 400>\n",
    "<br>\n",
    "Der britische Verlag Faber & Faber hat im Jahr 2000 ein Preisgeld von einer Million Dollar für den Beweis der Vermutung ausgelobt. \n",
    "<br>\n",
    "<br>\n",
    "\n",
    "**Algorithmus, der die Goldbachsche Vermutung testet**\n",
    "\n"
   ]
  },
  {
   "cell_type": "code",
   "execution_count": 25,
   "id": "4a5365d5-f552-4d94-943a-a5c71fda39a8",
   "metadata": {},
   "outputs": [
    {
     "name": "stdout",
     "output_type": "stream",
     "text": [
      "i =  3 j =  3 ,  n =  6\n",
      "i =  3 j =  5 ,  n =  8\n",
      "i =  3 j =  7 ,  n =  10\n",
      "i =  5 j =  7 ,  n =  12\n",
      "i =  3 j =  11 ,  n =  14\n",
      "i =  3 j =  13 ,  n =  16\n",
      "i =  5 j =  13 ,  n =  18\n",
      "i =  3 j =  17 ,  n =  20\n",
      "i =  3 j =  19 ,  n =  22\n",
      "i =  5 j =  19 ,  n =  24\n",
      "i =  3 j =  23 ,  n =  26\n",
      "i =  5 j =  23 ,  n =  28\n",
      "i =  7 j =  23 ,  n =  30\n",
      "i =  3 j =  29 ,  n =  32\n",
      "i =  3 j =  31 ,  n =  34\n",
      "i =  5 j =  31 ,  n =  36\n",
      "i =  7 j =  31 ,  n =  38\n",
      "i =  3 j =  37 ,  n =  40\n",
      "i =  5 j =  37 ,  n =  42\n",
      "i =  3 j =  41 ,  n =  44\n",
      "i =  3 j =  43 ,  n =  46\n",
      "i =  5 j =  43 ,  n =  48\n",
      "i =  3 j =  47 ,  n =  50\n",
      "i =  5 j =  47 ,  n =  52\n",
      "i =  7 j =  47 ,  n =  54\n",
      "i =  3 j =  53 ,  n =  56\n",
      "i =  5 j =  53 ,  n =  58\n",
      "i =  7 j =  53 ,  n =  60\n",
      "i =  3 j =  59 ,  n =  62\n",
      "i =  3 j =  61 ,  n =  64\n",
      "i =  5 j =  61 ,  n =  66\n",
      "i =  7 j =  61 ,  n =  68\n",
      "i =  3 j =  67 ,  n =  70\n",
      "i =  5 j =  67 ,  n =  72\n",
      "i =  3 j =  71 ,  n =  74\n",
      "i =  3 j =  73 ,  n =  76\n",
      "i =  5 j =  73 ,  n =  78\n",
      "i =  7 j =  73 ,  n =  80\n",
      "i =  3 j =  79 ,  n =  82\n",
      "i =  5 j =  79 ,  n =  84\n",
      "i =  3 j =  83 ,  n =  86\n",
      "i =  5 j =  83 ,  n =  88\n",
      "i =  7 j =  83 ,  n =  90\n",
      "i =  3 j =  89 ,  n =  92\n",
      "i =  5 j =  89 ,  n =  94\n",
      "i =  7 j =  89 ,  n =  96\n",
      "i =  19 j =  79 ,  n =  98\n",
      "i =  3 j =  97 ,  n =  100\n",
      "Goldbachsche Vermutung ist wahr bis zur Zahl 100 !\n"
     ]
    }
   ],
   "source": [
    "# Programm zum Test der Goldbachschen Vermutung\n",
    "\n",
    "from sympy import isprime\n",
    "n=4\n",
    "conjecture = True\n",
    "\n",
    "# remove 'and n < 100' within the next line and you \n",
    "# will (very likely :-) get and endless loop \n",
    "\n",
    "while conjecture and n < 100:\n",
    "    n = n + 2\n",
    "    conjecture = False\n",
    "    for i in range(3, n-2, 2):\n",
    "        j = n - i\n",
    "        if (isprime(i) and isprime(j)):\n",
    "            conjecture = True\n",
    "            print(\"i = \", i,\"j = \", j, \",  n = \", i+j)\n",
    "            break\n",
    "\n",
    "if conjecture == True:\n",
    "    print(\"Goldbachsche Vermutung ist wahr bis zur Zahl\", n,\"!\")\n",
    "else:\n",
    "    print(\"Goldbachsche Vermutung ist falsch!\")\n"
   ]
  },
  {
   "cell_type": "markdown",
   "id": "e1b422a9-c585-436d-bf0a-0f93884fb194",
   "metadata": {},
   "source": [
    "\n",
    "**Da die Goldbasche Vermutung unbewiesen ist, kann bisher niemand sagen, ob dieser Algorithmus die Abbruchbedingung erreicht oder immer weiter läuft.**\n"
   ]
  },
  {
   "cell_type": "code",
   "execution_count": null,
   "id": "252756f9-763f-40b0-b3ca-ce23dbc897d0",
   "metadata": {},
   "outputs": [],
   "source": []
  }
 ],
 "metadata": {
  "kernelspec": {
   "display_name": "Python 3 (ipykernel)",
   "language": "python",
   "name": "python3"
  },
  "language_info": {
   "codemirror_mode": {
    "name": "ipython",
    "version": 3
   },
   "file_extension": ".py",
   "mimetype": "text/x-python",
   "name": "python",
   "nbconvert_exporter": "python",
   "pygments_lexer": "ipython3",
   "version": "3.9.7"
  }
 },
 "nbformat": 4,
 "nbformat_minor": 5
}
