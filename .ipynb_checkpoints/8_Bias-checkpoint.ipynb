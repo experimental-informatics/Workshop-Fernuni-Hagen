{
 "cells": [
  {
   "cell_type": "markdown",
   "id": "21866edd-5ebc-46da-b81c-344243c50bf6",
   "metadata": {},
   "source": [
    "# Bias\n",
    "\n",
    "<font color=\"blue\">\n",
    "\n",
    "#### Übersicht\n",
    "\n",
    "1. [x] Die Bibliothek von Babel\n",
    "2. [x] Brion Gysin - Permutationen   \n",
    "3. [x] Markov-Ketten\n",
    "4. [x] Transformer-Netze\n",
    "5. [x] OpenAI Codex\n",
    "6. [x] Die Codierung von Bedeutung - WordVecs und Positional Endcoder\n",
    "7. [x] Verstehen & Algorithmus\n",
    "8. [ ] Bias\n",
    "\n",
    "</font>\n",
    "\n",
    "Vorurteile und Neigungen von Algorithmen und Daten beim maschinellen Lernen.\n",
    "<br>\n",
    "<br>\n"
   ]
  },
  {
   "cell_type": "markdown",
   "id": "22aaf147-9059-4218-b397-8fc6cad82be1",
   "metadata": {},
   "source": [
    "<img src=\"./data/Types_of_Biases.png\" />"
   ]
  },
  {
   "cell_type": "markdown",
   "id": "fe2c2193-05b9-489d-a61a-9c6fc3a61b11",
   "metadata": {},
   "source": [
    "Harini Suresh, John Guttag (2021) identifizieren 7 verschiedene potenzielle Quellen für Biases beim maschinellen Lernen. Sie umfassen **die Erhebung der Daten, die Entwicklung der Algorithmen und deren Anwendung**.\n"
   ]
  },
  {
   "cell_type": "markdown",
   "id": "e4d11d1c-cbd3-4bd8-8b03-14f6d6e4965d",
   "metadata": {},
   "source": [
    "# Beispiel für Aggregation Bias: Simpson Paradox\n",
    "\n"
   ]
  },
  {
   "cell_type": "markdown",
   "id": "c393c930-6b73-4ee2-adbd-ebe4d9e1e464",
   "metadata": {},
   "source": [
    "\n",
    "\n",
    "<img src=\"data/Simpson_Paradox_2.jpg\" width = 600>\n",
    "\n",
    "Die Verhältnisse ändern sich fundamental, wenn die Quoten nach Instituten getrennt betrachtet werden.\n",
    "\n",
    "<img src=\"data/Simpson_paradox_1.jpg\" width = 600>"
   ]
  },
  {
   "cell_type": "markdown",
   "id": "8684cca2-c0c5-490a-be26-48c29c5e6617",
   "metadata": {},
   "source": [
    "# Ein anderes Beispiel aus der Medizin.\n",
    "\n",
    "Test eines neuen Medikaments im Vergleich zur bisherigen Therapie.\n",
    "\n",
    "\n",
    "<img src=\"data/MedicalTreatment_1.png\" width=500>\n",
    "\n",
    "<br>\n",
    "<br>"
   ]
  },
  {
   "cell_type": "markdown",
   "id": "c7015c2d-98ac-4fdf-8aed-f64f90e3e2f2",
   "metadata": {},
   "source": [
    "Betrachtung der Ergebnisse nach Testgruppen:\n",
    "\n",
    "<br>\n",
    "<img src=\"data/MedicalTreatment_2.png\" width=500>\n",
    "<br>\n"
   ]
  },
  {
   "cell_type": "code",
   "execution_count": null,
   "id": "cd644d86-4f07-4d5f-8514-39297a32a179",
   "metadata": {},
   "outputs": [],
   "source": []
  }
 ],
 "metadata": {
  "kernelspec": {
   "display_name": "Python 3",
   "language": "python",
   "name": "python3"
  },
  "language_info": {
   "codemirror_mode": {
    "name": "ipython",
    "version": 3
   },
   "file_extension": ".py",
   "mimetype": "text/x-python",
   "name": "python",
   "nbconvert_exporter": "python",
   "pygments_lexer": "ipython3",
   "version": "3.8.8"
  }
 },
 "nbformat": 4,
 "nbformat_minor": 5
}
