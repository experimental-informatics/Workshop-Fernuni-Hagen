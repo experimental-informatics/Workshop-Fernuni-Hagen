{
 "cells": [
  {
   "cell_type": "markdown",
   "id": "5256a353-20c3-4851-b7d2-b9e88b27952e",
   "metadata": {
    "tags": []
   },
   "source": [
    "# Transformer-Netze\n",
    "\n",
    "\n",
    "#### Übersicht\n",
    "    \n",
    "1. [x] Die Bibliothek von Babel\n",
    "2. [x] Brion Gysin - Permutationen   \n",
    "3. [x] Markov-Ketten\n",
    "4. [ ] Transformer-Netze\n",
    "5. [ ] OpenAI Codex\n",
    "6. [ ] Die Codierung von Bedeutung - WordVecs und Positional Endcoder\n",
    "7. [ ] Verstehen & Algorithmus\n",
    "8. [ ] Bias\n"
   ]
  },
  {
   "cell_type": "markdown",
   "id": "1a54bbe0-c915-4be7-b0b6-0bfb894ca9d2",
   "metadata": {
    "tags": []
   },
   "source": [
    "\n",
    "# <font color=\"blue\"> Standard Neural Net and Language Models\n",
    "</font>"
   ]
  },
  {
   "cell_type": "markdown",
   "id": "9380d06a-48d0-471a-a9d4-695003a5c959",
   "metadata": {
    "tags": []
   },
   "source": [
    "## Einfache \"feedforward neural networks\"\n"
   ]
  },
  {
   "cell_type": "markdown",
   "id": "3b896e06-778d-4f48-b342-7922c6645599",
   "metadata": {},
   "source": [
    "![Image](data/mnist2.png)"
   ]
  },
  {
   "cell_type": "markdown",
   "id": "bc1ca441-d789-4371-a4d4-c0f88842b7c1",
   "metadata": {},
   "source": [
    "![Image](data/series_of_ones.jpg)\n",
    "Bildquelle: apa/reuters/Maxar, Satellitenbild russischer Artilleriestellungen im Norden von Lyman, Ukraine.\n",
    "<br>"
   ]
  },
  {
   "cell_type": "code",
   "execution_count": 5,
   "id": "a981a7af-7472-44dd-92f3-c93c2c21f8d9",
   "metadata": {},
   "outputs": [],
   "source": [
    "#!pip3 install tensorflow\n",
    "#!pip3 install keras\n"
   ]
  },
  {
   "cell_type": "code",
   "execution_count": 6,
   "id": "f1140ff4-e601-4dd3-bc44-919127f7b7f6",
   "metadata": {},
   "outputs": [],
   "source": [
    "import numpy\n",
    "import scipy.special\n",
    "import matplotlib.pyplot\n",
    "%matplotlib inline\n",
    "import imageio\n"
   ]
  },
  {
   "cell_type": "code",
   "execution_count": 7,
   "id": "ac01d978-86d4-4ef7-9807-edfef0f3af6a",
   "metadata": {},
   "outputs": [
    {
     "data": {
      "text/plain": [
       "<matplotlib.image.AxesImage at 0x7fb8a0896ac0>"
      ]
     },
     "execution_count": 7,
     "metadata": {},
     "output_type": "execute_result"
    },
    {
     "data": {
      "image/png": "[encoded data removed]",
      "text/plain": [
       "<Figure size 432x288 with 1 Axes>"
      ]
     },
     "metadata": {
      "needs_background": "light"
     },
     "output_type": "display_data"
    }
   ],
   "source": [
    "img_array = imageio.imread('data/series-of-ones-grey.png', as_gray=True)\n",
    "img_data  = 255.0 - img_array.reshape(784)\n",
    "img_data = (img_data / 255.0 * 0.99) + 0.01\n",
    "matplotlib.pyplot.imshow(img_data.reshape(28,28), cmap='Greys', interpolation='None')\n"
   ]
  },
  {
   "cell_type": "code",
   "execution_count": 8,
   "id": "795461da-c8ed-4780-8a5c-fa386d836a45",
   "metadata": {},
   "outputs": [],
   "source": [
    "class neuralNetwork:\n",
    "    def __init__(self, inputnodes, hiddennodes, outputnodes, learningrate):\n",
    "        self.inodes = inputnodes\n",
    "        self.hnodes = hiddennodes\n",
    "        self.onodes = outputnodes\n",
    "        \n",
    "        # wih = weigths between Input Layer and Hidden Layer\n",
    "        # who = weigths between Hidden Layer and Output Layer\n",
    "        self.wih = numpy.random.normal(0.0, pow(self.inodes, -0.5), (self.hnodes, self.inodes))\n",
    "        self.who = numpy.random.normal(0.0, pow(self.hnodes, -0.5), (self.onodes, self.hnodes))\n",
    "        self.lr = learningrate\n",
    "        \n",
    "        # The expit function, also known as the logistic sigmoid function, \n",
    "        # is defined as expit(x) = 1/(1+exp(-x)).\n",
    "        self.activation_function = lambda x: scipy.special.expit(x)              \n",
    "        pass\n",
    " \n",
    "    def train(self, inputs_list, targets_list):\n",
    "        inputs = numpy.array(inputs_list, ndmin=2).T\n",
    "        targets = numpy.array(targets_list, ndmin=2).T\n",
    "\n",
    "        hidden_inputs = numpy.dot(self.wih, inputs)\n",
    "        hidden_outputs = self.activation_function(hidden_inputs)\n",
    "\n",
    "        final_inputs = numpy.dot(self.who, hidden_outputs)\n",
    "        final_outputs = self.activation_function(final_inputs)\n",
    "\n",
    "        output_errors = targets - final_outputs\n",
    "        hidden_errors = numpy.dot(self.who.T, output_errors) #was heißt .T???\n",
    "    \n",
    "        self.who += self.lr * numpy.dot((output_errors * final_outputs * \n",
    "                            (1.0 - final_outputs)), numpy.transpose(hidden_outputs))\n",
    "        self.wih += self.lr * numpy.dot((hidden_errors * hidden_outputs * \n",
    "                            (1.0 - hidden_outputs)), numpy.transpose(inputs))\n",
    "        pass\n",
    "        \n",
    "    def query(self, inputs_list):\n",
    "        inputs = numpy.array(inputs_list, ndmin=2).T\n",
    "        \n",
    "        hidden_inputs = numpy.dot(self.wih, inputs)\n",
    "        hidden_outputs = self.activation_function(hidden_inputs)\n",
    "\n",
    "        final_inputs = numpy.dot(self.who, hidden_outputs)\n",
    "        final_outputs = self.activation_function(final_inputs)\n",
    "        return final_outputs \n",
    "    "
   ]
  },
  {
   "cell_type": "code",
   "execution_count": 9,
   "id": "a488c5fc-1b19-4540-9874-ac58d4e73f64",
   "metadata": {},
   "outputs": [],
   "source": [
    "\n",
    "input_nodes = 784 # 28x28 Bildpunkte = 784 Werte\n",
    "hidden_nodes = 100\n",
    "output_nodes = 10\n",
    "learning_rate=0.3\n",
    "\n",
    "n=neuralNetwork(input_nodes,hidden_nodes,output_nodes,learning_rate)"
   ]
  },
  {
   "cell_type": "code",
   "execution_count": 10,
   "id": "9ecf56ac-d12b-45ba-9a48-491fe15c0a1c",
   "metadata": {},
   "outputs": [],
   "source": [
    "\n",
    "training_data_file = open(\"./data/mnist_train_100.csv\", 'r')\n",
    "training_data_list = training_data_file.readlines()\n",
    "training_data_file.close\n",
    "\n",
    "epochs = 100\n",
    "\n",
    "for e in range(epochs):\n",
    "    for record in training_data_list:\n",
    "        all_values = record.split(',')\n",
    "        inputs = (numpy.asfarray(all_values[1:]) / 255.0 * 0.99) + 0.01\n",
    "        targets = numpy.zeros(output_nodes) + 0.01\n",
    "        targets[int(all_values[0])] = 0.99\n",
    "        n.train(inputs, targets)\n",
    "        pass\n",
    "    pass"
   ]
  },
  {
   "cell_type": "code",
   "execution_count": 11,
   "id": "26374b5e-e604-4e3d-ae23-2c5cd249eff9",
   "metadata": {},
   "outputs": [
    {
     "name": "stdout",
     "output_type": "stream",
     "text": [
      "min =  0.16141178\n",
      "max =  0.9844706\n",
      "[[0.00753791]\n",
      " [0.05056088]\n",
      " [0.01191195]\n",
      " [0.07528696]\n",
      " [0.01003931]\n",
      " [0.00357432]\n",
      " [0.0139985 ]\n",
      " [0.0984893 ]\n",
      " [0.00681383]\n",
      " [0.00308267]]\n",
      "Netzwerk sagt  7\n"
     ]
    },
    {
     "data": {
      "image/png": "[encoded data removed]",
      "text/plain": [
       "<Figure size 432x288 with 1 Axes>"
      ]
     },
     "metadata": {
      "needs_background": "light"
     },
     "output_type": "display_data"
    }
   ],
   "source": [
    "img_array = imageio.imread('data/series-of-ones-grey.png', as_gray=True)\n",
    "img_data  = 255.0 - img_array.reshape(784)\n",
    "img_data = (img_data / 255.0 * 0.99) + 0.01\n",
    "\n",
    "print(\"min = \", numpy.min(img_data))\n",
    "print(\"max = \", numpy.max(img_data))\n",
    "\n",
    "matplotlib.pyplot.imshow(img_data.reshape(28,28), cmap='Greys', interpolation='None')\n",
    "\n",
    "# Netzwerkabfrage\n",
    "outputs = n.query(img_data)\n",
    "print (outputs)\n",
    "\n",
    "# der Index mit dem höchsten Wert entspricht der Klasse(Zahl)\n",
    "label = numpy.argmax(outputs)\n",
    "print(\"Netzwerk sagt \", label)\n"
   ]
  },
  {
   "cell_type": "markdown",
   "id": "94f239ae-47d8-46b1-bf1d-5a300ec436ed",
   "metadata": {
    "tags": []
   },
   "source": [
    "## Deep Neural Networks"
   ]
  },
  {
   "cell_type": "markdown",
   "id": "4bf3d507-8adb-4da6-8d10-92a55e89338e",
   "metadata": {
    "jp-MarkdownHeadingCollapsed": true,
    "tags": []
   },
   "source": [
    "<img src=\"data/Deep_neural_net.png\">"
   ]
  },
  {
   "cell_type": "markdown",
   "id": "e627a0ae-2533-4425-8772-7892514cef03",
   "metadata": {
    "tags": []
   },
   "source": [
    "## GAN's  =  Generative adversarial networks\n"
   ]
  },
  {
   "cell_type": "markdown",
   "id": "0ab660f7-2341-478b-821c-e95fefef47b0",
   "metadata": {
    "tags": []
   },
   "source": [
    "\n",
    "Es gibt sehr gute Einführungen zur GAN Struktur im Netz.\n",
    "[Zum Beispiel](https://developers.google.com/machine-learning/gan/)\n",
    "<br>\n",
    "\n",
    "**This person does not exist**\n",
    "\n",
    "[A random face generator](https://this-person-does-not-exist.com/de)\n",
    "\n",
    "<img src=\"data/This_person_does_not_exist.png\" width = 500>\n"
   ]
  },
  {
   "cell_type": "markdown",
   "id": "ec2fef3e-3571-4af4-9ae8-ae8b8abc5ad7",
   "metadata": {},
   "source": [
    "<br>\n",
    "\n",
    "![Image](data/GAN.png)\n",
    "\n",
    "<br>"
   ]
  },
  {
   "cell_type": "markdown",
   "id": "7d2e147f-81ff-4543-bd31-555fc709ae50",
   "metadata": {
    "tags": []
   },
   "source": [
    "## RNN's = Recurrent neural networks"
   ]
  },
  {
   "cell_type": "markdown",
   "id": "edfd4579-d9e8-43d7-9608-4d82ce24eea4",
   "metadata": {},
   "source": [
    "![Image](data/RNN.png)"
   ]
  },
  {
   "cell_type": "markdown",
   "id": "b76c66e3-3c0c-4f60-9d1b-edf242ec9fbd",
   "metadata": {
    "tags": []
   },
   "source": [
    "## Transformer networks"
   ]
  },
  {
   "cell_type": "markdown",
   "id": "ae9efeb9-ab79-4bbb-8abf-fa62aba41f13",
   "metadata": {},
   "source": [
    "<br>\n",
    "\n",
    "<img src=\"data/Transformer.png\" width = 500>\n",
    "<br>\n"
   ]
  },
  {
   "cell_type": "markdown",
   "id": "86057f8a-755d-44df-945d-81c4429be4f1",
   "metadata": {},
   "source": [
    "<br>\n",
    "\n",
    "<img src=\"data/Encoding-Attention.png\" width = 400>\n",
    "\n",
    "<br>"
   ]
  },
  {
   "cell_type": "markdown",
   "id": "0a2d1890-2de7-41d7-96f7-8d9e5b6a631f",
   "metadata": {},
   "source": [
    "<br>\n",
    "\n",
    "Zentrale Verbesserung des Transformer Models ist der **Attention Mechanism**.\n",
    "\n",
    "Das zentrale Paper ist:\n",
    "https://arxiv.org/abs/1706.03762\n",
    "\n",
    "<br>\n"
   ]
  },
  {
   "cell_type": "markdown",
   "id": "026097bb-01a1-4684-964f-01b693e3a453",
   "metadata": {
    "tags": []
   },
   "source": [
    "### One or few shot learner\n",
    "\n",
    "Language Models are Few-Shot Learners. <br>\n",
    "https://arxiv.org/abs/2005.14165\n",
    "\n",
    "**Prompt Design (Engineering)** is a concept in artificial intelligence, particularly natural language processing (NLP). In prompt engineering, the description of the task is embedded in the input, e.g., as a question instead of it being implicitly given. Prompt engineering typically works by converting one or more tasks to a prompt-based dataset and training a language model with what has been called \"prompt-based learning\" or just \"prompt learning\".\n",
    "<br>(Wikipedia)\n",
    "\n",
    "**Translation**\n",
    "<br>Stuhl = chair\n",
    "<br>Hund = dog\n",
    "<br>Frau = \n",
    "\n",
    "Translate this into French:\n",
    "Die Tagung ist sehr gut besucht.\n",
    "\n",
    "**Sentiment Analyzer**\n",
    "<br>Tweet: Ich fand das saublöd.\n",
    "<br>Sentiment:\n",
    "<br>\n",
    "\n",
    "Classify the sentiment in these tweets:\n",
    "\n",
    "1. \"I can't stand homework\"\n",
    "2. \"This sucks. I'm bored 😠\"\n",
    "3. \"I can't wait for Halloween!!!\"\n",
    "4. \"My cat is adorable ❤️❤️\"\n",
    "5. \"I hate chocolate\"\n",
    "\n",
    "**Conversation**\n",
    "<br>The following is a conversation with an AI assistant. The assistant is helpful, creative, clever, and very friendly.\n",
    "\n",
    "Human: Hello, who are you?<br>\n",
    "AI: I am an AI created by OpenAI. How can I help you today?<br>\n",
    "Human:<br>\n"
   ]
  },
  {
   "cell_type": "code",
   "execution_count": 12,
   "id": "89d0f43b-3346-4f06-833f-372b9810a546",
   "metadata": {},
   "outputs": [],
   "source": [
    "import os\n",
    "import openai\n",
    "openai.api_key = \"your_openai-key\"\n",
    "\n",
    "text = \"Der Hund hat krumme Zähne\"\n",
    "\n",
    "input_text = \"Translate the following to german: \"+text\n",
    "\n"
   ]
  },
  {
   "cell_type": "code",
   "execution_count": 13,
   "id": "e22e99c3-fe46-4233-a124-970e13ee0759",
   "metadata": {},
   "outputs": [],
   "source": [
    "def prompting(input_text):\n",
    "    response = openai.Completion.create(\n",
    "      engine=\"text-davinci-002\",\n",
    "      prompt=input_text,\n",
    "      temperature=0.7,\n",
    "      max_tokens=100,\n",
    "      top_p=1,\n",
    "      frequency_penalty=0.0,\n",
    "      presence_penalty=0.0,\n",
    "      stop=['\\n\\n\\n']\n",
    "    )\n",
    "    return response.choices[0].text"
   ]
  },
  {
   "cell_type": "code",
   "execution_count": 14,
   "id": "ca9514a4-3961-46f7-8e69-fb56df6aae1a",
   "metadata": {},
   "outputs": [
    {
     "name": "stdout",
     "output_type": "stream",
     "text": [
      "\n",
      "\n",
      "The dog has crooked teeth.\n"
     ]
    },
    {
     "data": {
      "text/plain": [
       "0"
      ]
     },
     "execution_count": 14,
     "metadata": {},
     "output_type": "execute_result"
    }
   ],
   "source": [
    "import os\n",
    "\n",
    "t = prompting(input_text)\n",
    "print(t)\n",
    "\n",
    "os.system(\"say '\"+t+\"'\") \n"
   ]
  },
  {
   "cell_type": "markdown",
   "id": "e9b434e5-2886-456c-b835-650dbcb57eb0",
   "metadata": {
    "tags": []
   },
   "source": [
    "## Transformer Netze als Bildgeneratoren\n",
    "\n",
    "DALL·E: Creating Images from Text <br>\n",
    "https://openai.com/blog/dall-e/\n",
    "\n",
    "\n",
    "[en2ru-DALL-E](https://colab.research.google.com/github/ouhenio/en2ru-DALLE-notebook/blob/main/en2ru_DALLE_generation.ipynb#scrollTo=GdOYJvwZSB-D)\n",
    "<br>Installation: Rechner GPU benötigt.\n",
    "\n",
    "Discord => Midjourney <br>\n",
    "https://www.midjourney.com/\n",
    "\n",
    "Mini DALL•E <br>\n",
    "https://huggingface.co/spaces/dalle-mini/dalle-mini\n",
    "\n"
   ]
  },
  {
   "cell_type": "code",
   "execution_count": null,
   "id": "037687d4-b57a-4c10-b304-a1638c7a8ae4",
   "metadata": {},
   "outputs": [],
   "source": []
  },
  {
   "cell_type": "code",
   "execution_count": null,
   "id": "d03bf9d3-307a-4a3d-a6c5-87c352edde9d",
   "metadata": {},
   "outputs": [],
   "source": []
  }
 ],
 "metadata": {
  "kernelspec": {
   "display_name": "Python 3",
   "language": "python",
   "name": "python3"
  },
  "language_info": {
   "codemirror_mode": {
    "name": "ipython",
    "version": 3
   },
   "file_extension": ".py",
   "mimetype": "text/x-python",
   "name": "python",
   "nbconvert_exporter": "python",
   "pygments_lexer": "ipython3",
   "version": "3.9.7"
  }
 },
 "nbformat": 4,
 "nbformat_minor": 5
}
