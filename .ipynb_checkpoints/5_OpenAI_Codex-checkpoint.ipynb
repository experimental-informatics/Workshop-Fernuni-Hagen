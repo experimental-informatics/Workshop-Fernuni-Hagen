{
 "cells": [
  {
   "cell_type": "markdown",
   "id": "d6367976-0be4-4a37-9e70-4a82862f12ec",
   "metadata": {},
   "source": [
    "# OpenAI Codex\n",
    "\n",
    "\n",
    "#### Übersicht\n",
    "\n",
    "1. [x] Die Bibliothek von Babel\n",
    "2. [x] Brion Gysin - Permutationen   \n",
    "3. [x] Markov-Ketten\n",
    "4. [x] Transformer-Netze\n",
    "5. [ ] OpenAI Codex\n",
    "6. [ ] Die Codierung von Bedeutung - WordVecs und Positional Endcoder\n",
    "7. [ ] Verstehen & Algorithmus\n",
    "8. [ ] Bias\n"
   ]
  },
  {
   "cell_type": "markdown",
   "id": "66408b47-eefd-47ba-a1a1-5837b4c5e1b2",
   "metadata": {},
   "source": [
    "# Einige Beispiele: playground von OpenAI\n",
    "\n",
    "[Webseite von OpenAI](https://beta.openai.com/overview)\n"
   ]
  },
  {
   "cell_type": "markdown",
   "id": "88ab75fb-1bcc-4d13-98df-325f8220d714",
   "metadata": {},
   "source": [
    "Beispiele:\n",
    "    \n",
    "    - Schreiben eines Gedichtes\n",
    "    - Schreiben von Python-Code\n",
    "    "
   ]
  },
  {
   "cell_type": "markdown",
   "id": "f1539b91-78f9-4592-a609-5a87cc150fd8",
   "metadata": {},
   "source": [
    "**Interessant!** Jenseits des shannonschen Modells der Kommunikation. Nähe an Herbert Paul Grice \"Kommunikation als kooperative Handeln\".\n"
   ]
  },
  {
   "cell_type": "code",
   "execution_count": null,
   "id": "acc3cd6b-9ff6-479c-9390-f91fecb76441",
   "metadata": {},
   "outputs": [],
   "source": [
    "# write python code that generates all permutations of the sentence 'I am what I am'.\n",
    "# print all the permutations.\n"
   ]
  },
  {
   "cell_type": "code",
   "execution_count": 17,
   "id": "9b22946b-2704-4ba2-836b-0887c0adb73d",
   "metadata": {},
   "outputs": [],
   "source": [
    "# Write python code that generates all permutations of the sentence 'no poet's don't own words' and save it in a list. \n",
    "# Then write a python speech synthesiser that speaks all the generated sentences and prints them.\n"
   ]
  },
  {
   "cell_type": "code",
   "execution_count": null,
   "id": "61e18f42-1ff4-493c-bd81-fd5fd9a91e1e",
   "metadata": {},
   "outputs": [],
   "source": []
  }
 ],
 "metadata": {
  "kernelspec": {
   "display_name": "Python 3 (ipykernel)",
   "language": "python",
   "name": "python3"
  },
  "language_info": {
   "codemirror_mode": {
    "name": "ipython",
    "version": 3
   },
   "file_extension": ".py",
   "mimetype": "text/x-python",
   "name": "python",
   "nbconvert_exporter": "python",
   "pygments_lexer": "ipython3",
   "version": "3.9.7"
  }
 },
 "nbformat": 4,
 "nbformat_minor": 5
}
