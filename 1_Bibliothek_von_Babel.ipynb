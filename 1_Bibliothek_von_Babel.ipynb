{
 "cells": [
  {
   "cell_type": "markdown",
   "metadata": {
    "tags": []
   },
   "source": [
    "# Die Bibliothek von Babel – Algorithmen der Textgenerierung\n",
    "\n",
    "**Georg Trogemann <br>\n",
    "Kunsthochschule für Medien Köln**\n",
    "\n",
    "www.GeorgTrogemann.de <br>\n",
    "https://ground-zero.khm.de/\n",
    "\n",
    "\n",
    "Tagung: Digitale Hermeneutik: Maschinen, Verfahren, Sinn <br>\n",
    "Fernuniversität in Hagen, 30.06.2022\n",
    "\n",
    "\n",
    "\n",
    "#### Übersicht\n",
    "\n",
    "1. [ ] Die Bibliothek von Babel\n",
    "2. [ ] Brion Gysin - Permutationen   \n",
    "3. [ ] Markov-Ketten\n",
    "4. [ ] Transformer-Netze\n",
    "5. [ ] OpenAI Codex\n",
    "6. [ ] Die Codierung von Bedeutung - WordVecs und Positional Endcoder\n",
    "7. [ ] Verstehen & Algorithmus\n",
    "8. [ ] Bias\n",
    "\n"
   ]
  },
  {
   "cell_type": "markdown",
   "metadata": {
    "tags": []
   },
   "source": [
    "<br>\n",
    "<font color=\"blue\">\n",
    "\n",
    "**Der gesamte Workshop ist zu finden unter:**\n",
    "</font>\n",
    "https://github.com/experimental-informatics/Workshop-Fernuni-Hagen\n",
    "<br>\n",
    "<br>"
   ]
  },
  {
   "cell_type": "markdown",
   "metadata": {
    "tags": []
   },
   "source": [
    "# Die Bibliothek von Babel\n",
    "\n",
    "\n",
    "Die Kurzgeschichte **\"Die Bibliothek von Babel\"** des argentinischen Schriftstellers **Jorge Luis Borges** erschien erstmals 1941 in dem Band **\"Der Garten der Pfade, die sich verzweigen\"**, der später als erster Teil der Fiktionen veröffentlicht wurde. Die Geschichte beginnt mit der Beschreibung einer Welt, die seit Anbeginn der Zeit existiert und in der alle Menschen als Bibliothekare in einer wabenförmigen Welt leben.\n",
    "\n",
    "\n",
    "    \"Das Universum (das andere die Bibliothek nennen) setzt sich aus einer unbegrenzten und vielleicht unendlichen Zahl sechseckiger Galerien zusammen, mit weiten Entlüftungsschächten in der Mitte, die mit sehr niedrigen Geländern eingefaßt sind. Von jedem Sechseck aus kann man die unteren und oberen Stockwerke sehen: ohne ein Ende. Die Anordnung der Galerien ist unwandelbar dieselbe. Zwanzig Bücherregale, fünf breite Regale auf jeder Seite, verdecken alle Seiten außer zweien: ihre Höhe, die sich mit der Höhe des Stockwerks deckt, übertrifft nur wenig die Größe eines normalen Bibliothekars. Eine der freien Wände öffnet sich auf einen schmalen Gang, der in eine andere Galerie, genau wie die erste, genau wie alle, einmündet. [...] \"\n",
    "\n",
    "    \"Auf jede Wand jeden Sechsecks kommen fünf Regale jedes Regal faßt zweiunddreißig Bücher gleichen Formats, jedes Buch besteht aus vierhundertzehn Seiten, jede Seite aus vierzig Zeilen, jede Zeile aus etwa achtzig Buchstaben von schwarzer Farbe.\"\n",
    "\n",
    "<br>\n",
    "\n",
    "<img src=\"./data/bibliotheca-perennis-guido-stemme-1080x608.jpg\"> Quelle: Guido Stemme, https://guidostemme.de/bibliotheca-universalis/ \n",
    "\n",
    "<br>\n",
    "<br>\n",
    "<br>\n",
    "\n",
    "| Wie groß ist die Bibliothek von Babel? | Jorge Luis Borges |\n",
    "| : ------------------------------------ | :---------------- |\n",
    "| **Die Bibliothek:** <ul><li>Jedes Buch besteht aus 410 Seiten.</li><li>Jede Seite hat 40 Zeilen und 80 Zeichen pro Zeile.</li><li>Die Schrift besteht aus 22 orthographischen Zeichen + Punkt + Komma + Leerzeichen = 25 Zeichen.</li><li>In der Bibliothek gibt es nicht zwei identische Bücher.</li><li> Die Bibliothek soll alle **kombinatorisch möglichen Bücher** enthalten. </ul> **Wie groß ist die Bibliothek?** <ul><li>Jedes Buch besteht aus 40 x 80 x 410 = 1.312.000 Zeichen.</li> <li> Da es 25 verschiedene Zeichen gibt, kann jedes Buch als eine Zahl im Stellenwertsystem zur Basis 25 verstanden werden. </li></ul> <br> **Das heißt, es gibt 25<sup>1.312.000</sup> Bücher.** <br><br>25<sup>1.320.000</sup> = 10<sup>x</sup>   (log<sub>10</sub> 25 <sup>1.320.000</sup> = x, x = 1.845.281)<br> Zum Vergleich: Das Universum besteht aus  ungefähr 10<sup>84</sup> bis 10<sup>89</sup> Atomen. | <img src=\"./data/Jorge_Luis_Borges.jpg\"> |\n",
    "\n",
    "<br>\n",
    "\n",
    "#### Semantische Variationen von Büchern mit einen Umfang ≤ Länge_Babelbuch\n",
    "\n",
    "- Enthält alle Varianten eines Buches mit einem Tippfehler – jeder beliebige Tippfehler an jeder beliebigen Stelle (24*1.312.000 = 31.488.000 Bücher)\n",
    "\n",
    "- Enthält auch alle Bücher mit zwei Tippfehlern (das sind schon wesentlich mehr) usw., auch alle Varianten in alter und neuer Rechschreibung, sowie beliebig gemischt\n",
    "\n",
    "- Enthält alle möglichen Übersetzungen in Sprachen, die das gleiche Alphabet benutzen\n",
    "\n",
    "- Enthält auch alle Übersetzungen mit einem, zwei, drei, .... Fehlern\n",
    "\n",
    "- Enthält alle denkbaren Besprechungen, Kritiken, Würdigungen etc. eines Buches (Sekundär Literatur)\n",
    "\n",
    "- Sofern auch Sonderzeichen ([],{},(), +, -, *, /, etc.) Teil des Alphabetes sind, enthält die Bibliothek auch **alle Programme (< 410 Seiten) in allen denkbaren Programmiersprachen**"
   ]
  },
  {
   "cell_type": "markdown",
   "metadata": {},
   "source": [
    "<font color = \"red\">\n",
    "    \n",
    "#### Warum macht es keinen Unterschied, dass wir nur Bücher mit 410 Seiten betrachten? Was ist beispielsweise mit Büchern mit 820 Seiten oder mit Büchern mit 205 Seiten?\n",
    "<br>\n",
    "</font>"
   ]
  },
  {
   "cell_type": "code",
   "execution_count": 13,
   "metadata": {},
   "outputs": [
    {
     "name": "stdout",
     "output_type": "stream",
     "text": [
      "Number of characters used: 29\n",
      "The total number of books of length 10 is 420707233300201\n",
      "Number of digits: 15\n",
      "Book number 1\n",
      "aaaaaaaaaa\n",
      "\n",
      "Book number 2\n",
      "baaaaaaaaa\n",
      "\n",
      "Book number 3\n",
      "caaaaaaaaa\n",
      "\n",
      "Book number 4\n",
      "daaaaaaaaa\n",
      "\n",
      "Book number 5\n",
      "eaaaaaaaaa\n",
      "\n",
      "Book number 6\n",
      "faaaaaaaaa\n",
      "\n",
      "Book number 7\n",
      "gaaaaaaaaa\n",
      "\n",
      "Book number 8\n",
      "haaaaaaaaa\n",
      "\n",
      "Book number 9\n",
      "iaaaaaaaaa\n",
      "\n",
      "Book number 10\n",
      "jaaaaaaaaa\n",
      "\n"
     ]
    }
   ],
   "source": [
    "# LIBRARY OF BABEL\n",
    "# Original length of a book in the library of babel is 1.312.000.\n",
    "# Length of each generated book here:\n",
    "lengthOfBook = 10\n",
    "\n",
    "indexCounter = [] #Integer\n",
    "BookOfBooks = [] #Char\n",
    "sign = ['a','b','c','d',\n",
    "        'e','f','g','h','i','j','k','l',\n",
    "        'm','n','o','p','q','r','s','t',\n",
    "        'u','v','w','x','y','z', '_','.',',']\n",
    "numberOfCharacters = len(sign)\n",
    "pointOfChangeFound = False\n",
    "allBooksPrinted = False\n",
    "\n",
    "print(\"Number of characters used:\", numberOfCharacters)\n",
    "numberOfBooks = pow(numberOfCharacters, lengthOfBook)\n",
    "print(\"The total number of books of length \"+str(lengthOfBook)+\" is \"+str(numberOfBooks))\n",
    "print(\"Number of digits:\", len(str(numberOfBooks)))\n",
    "\n",
    "# initalize an empty book \n",
    "for i in range(0,lengthOfBook):\n",
    "    BookOfBooks.append(sign[0])\n",
    "    indexCounter.append(0)\n",
    "\n",
    "k = 1\n",
    "# If you want all books, substitue 'k > 10' by 'allBooksPrinted' in the while loop\n",
    "# Before doing that, be sure that you know how to stop a running kernel (square button)\n",
    "while not k > 10: \n",
    "    print(\"Book number \" + str(k))\n",
    "    k+=1\n",
    "    for j in range(lengthOfBook):\n",
    "        print(BookOfBooks[j],end='')\n",
    "    print(\"\\n\")\n",
    "    \n",
    "    i = 0\n",
    "    pointOfChangeFound = False\n",
    "    while not pointOfChangeFound and not allBooksPrinted:\n",
    "        if indexCounter[i] < numberOfCharacters-1:\n",
    "            indexCounter[i]+=1\n",
    "            pointOfChangeFound = True\n",
    "            BookOfBooks[i] = sign[indexCounter[i]]\n",
    "        else:\n",
    "            indexCounter[i]=0\n",
    "            BookOfBooks[i] = sign[0]\n",
    "            i+=1\n",
    "            if i >= lengthOfBook:\n",
    "                allBooksPrinted = True\n",
    "                print('All books printed!')\n",
    "            print()\n",
    "            \n"
   ]
  },
  {
   "cell_type": "markdown",
   "metadata": {
    "tags": []
   },
   "source": [
    "### Die Bibliothek von Babel als Web-Anwendung\n",
    "Die Bibliothek von Babel kann auch als **virtuelle Bibliothek** realisiert werden. \n",
    "**Jonathan Basile** hat eine Webanwendung geschrieben, \n",
    "- **mit der man in der Bibliothek stöbern,**\n",
    "- **aber auch eine Volltextsuche machen**\n",
    "- **oder sich Bücher nach dem Zufallsprinzip anzeigen lassen kann.**\n",
    "\n",
    "Zum Stöbern wird jedem Raum der Bibliothek eine eindeutige Adresse zugewiesen. Um alle Räume zu adressieren, können die Nummern bis zu 3260 Zeichen (26 Buchstaben + 10 Ziffern) haben. Hat man den Raum ausgewählt, wählt man zunächst die Wand, dann das Regal und schließlich das Buch aus und kann dann Seite für Seite lesen. Es gibt auch spezielle Funktionen wie Lesezeichen oder die Anzeige von Anglizismen. \n",
    "\n",
    "Bibliothek von Babel von Jonathan Basile: https://libraryofbabel.info/\n",
    "Das dazugehörige Buch: https://library.oapen.org/viewer/web/viewer.html?file=/bitstream/handle/20.500.12657/25433/1004662.pdf?sequence=1&isAllowed=y"
   ]
  },
  {
   "cell_type": "markdown",
   "metadata": {},
   "source": [
    "<!-- Markdeep: --><style class=\"fallback\">body{visibility:hidden;\n",
    "white-space:pre;font-family:monospace}</style>\n",
    "<script src=\"markdeep.min.js\" charset=\"utf-8\">\n",
    "</script><script src=\"https://casual-effects.com/markdeep/latest/markdeep.min.js\" charset=\"utf-8\"></script><script>\n",
    "window.alreadyProcessedMarkdeep||(document.body.style.visibility=\"visible\")</script>"
   ]
  },
  {
   "cell_type": "markdown",
   "metadata": {},
   "source": [
    "### Algoritmische Teilmengen der Bibliothek von Babel?\n",
    "\n",
    "Textgenerierungs-Algorithmen versuchen semantische Teilmengen der Bibliothek von Babel zu erfassen:\n",
    "\n",
    "- Übersetzung: Können die syntaktisch korrekten Texte in einer Sprache automatisch (algorithmisch) abgebildet werden auf die zugehörigen Texte einer anderen Sprache?\n",
    "\n",
    "- Ist ein bestimmter Schreibstil eine sinnvolle Teilmenge innerhalb einer Sprache? Kann der Stil algorithmisch gefasst werden?\n",
    "\n",
    "- Können zu einer Frage automatisch alle Texte generiert werden, die als Antwort akzeptiert werden können (als richtig gelten)? (z.B. Können Arztbriefe oder Gebrauchsanweisungen automatisch aus medizinischen oder technischen Daten generiert werden?)\n",
    "\n",
    "- Bildet die Menge der Romane eine sinnvolle Teilmenge innerhalb der syntaktisch korrekten Texte?\n"
   ]
  },
  {
   "cell_type": "code",
   "execution_count": null,
   "metadata": {},
   "outputs": [],
   "source": []
  }
 ],
 "metadata": {
  "kernelspec": {
   "display_name": "Python 3 (ipykernel)",
   "language": "python",
   "name": "python3"
  },
  "language_info": {
   "codemirror_mode": {
    "name": "ipython",
    "version": 3
   },
   "file_extension": ".py",
   "mimetype": "text/x-python",
   "name": "python",
   "nbconvert_exporter": "python",
   "pygments_lexer": "ipython3",
   "version": "3.9.7"
  }
 },
 "nbformat": 4,
 "nbformat_minor": 4
}
